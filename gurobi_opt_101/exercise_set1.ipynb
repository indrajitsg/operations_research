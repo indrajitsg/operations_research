{
 "cells": [
  {
   "cell_type": "markdown",
   "id": "99b3db14-0b8f-4df3-96f5-7a715a7c5a92",
   "metadata": {},
   "source": [
    "# Exercise Set 1"
   ]
  },
  {
   "cell_type": "code",
   "execution_count": null,
   "id": "a1500518-eb4a-498f-bf51-c47ccf570625",
   "metadata": {},
   "outputs": [],
   "source": []
  }
 ],
 "metadata": {
  "kernelspec": {
   "display_name": "Python 3 (ipykernel)",
   "language": "python",
   "name": "python3"
  },
  "language_info": {
   "codemirror_mode": {
    "name": "ipython",
    "version": 3
   },
   "file_extension": ".py",
   "mimetype": "text/x-python",
   "name": "python",
   "nbconvert_exporter": "python",
   "pygments_lexer": "ipython3",
   "version": "3.13.7"
  }
 },
 "nbformat": 4,
 "nbformat_minor": 5
}
