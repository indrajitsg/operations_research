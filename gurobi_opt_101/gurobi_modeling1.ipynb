{
 "cells": [
  {
   "cell_type": "markdown",
   "metadata": {
    "id": "UXW4INR1R_6F"
   },
   "source": [
    "## The Decision Problem\n",
    "\n",
    "We make widgets. Have a set of production facilities that produce boxes of widgets. There is also a set of distribution locations that will then distribute the widgets for sale. Each distribution center has a forecasted demand and each production facility has a min and max number of widgets it can make during this period. We need to ensure that each distribution facility receives enough widgets to satisfy demand from production and we want to do this at minimal cost. The minimum production is 75% of the production facilities max value."
   ]
  },
  {
   "cell_type": "markdown",
   "metadata": {
    "id": "On8oQge7S5k9"
   },
   "source": [
    "## Sets\n",
    "\n",
    "Our sets are:\n",
    "*   $P = \\{\\textrm{`Baltimore'}, \\textrm{`Cleveland'}, \\textrm{`Little Rock'}, \\textrm{`Birmingham'}, \\textrm{`Charleston'} \\}$\n",
    "*   $D = \\{\\textrm{`Columbia'}, \\textrm{`Indianapolis'}, \\textrm{`Lexington'}, \\textrm{`Nashville'}, \\textrm{`Richmond'}, \\textrm{`St. Louis'} \\}$\n",
    "\n"
   ]
  },
  {
   "cell_type": "code",
   "execution_count": 1,
   "metadata": {
    "colab": {
     "base_uri": "https://localhost:8080/"
    },
    "executionInfo": {
     "elapsed": 10758,
     "status": "ok",
     "timestamp": 1733480962524,
     "user": {
      "displayName": "Indrajit Sen Gupta",
      "userId": "00694207109306166962"
     },
     "user_tz": -330
    },
    "id": "e7_LLsTlRQTe",
    "outputId": "04c65cda-cac1-4e0f-f500-ec002a434429"
   },
   "outputs": [],
   "source": [
    "#!pip install gurobipy"
   ]
  },
  {
   "cell_type": "code",
   "execution_count": 2,
   "metadata": {
    "executionInfo": {
     "elapsed": 2237,
     "status": "ok",
     "timestamp": 1733480968377,
     "user": {
      "displayName": "Indrajit Sen Gupta",
      "userId": "00694207109306166962"
     },
     "user_tz": -330
    },
    "id": "-y4UM5zHBXgf"
   },
   "outputs": [],
   "source": [
    "# Import packages\n",
    "import pandas as pd\n",
    "import gurobipy as gb\n",
    "from gurobipy import GRB"
   ]
  },
  {
   "cell_type": "code",
   "execution_count": 3,
   "metadata": {
    "executionInfo": {
     "elapsed": 329,
     "status": "ok",
     "timestamp": 1733480972310,
     "user": {
      "displayName": "Indrajit Sen Gupta",
      "userId": "00694207109306166962"
     },
     "user_tz": -330
    },
    "id": "MTSB4WaKRNzt"
   },
   "outputs": [],
   "source": [
    "# Define sets P and D respectively\n",
    "production = ['Baltimore', 'Cleveland', 'Little_Rock', 'Birmingham', 'Charleston']\n",
    "distribution = ['Columbia', 'Indianapolis', 'Lexington', 'Nashville', 'Richmond', 'St_Louis']"
   ]
  },
  {
   "cell_type": "code",
   "execution_count": 4,
   "metadata": {
    "colab": {
     "base_uri": "https://localhost:8080/"
    },
    "executionInfo": {
     "elapsed": 519,
     "status": "ok",
     "timestamp": 1733480975781,
     "user": {
      "displayName": "Indrajit Sen Gupta",
      "userId": "00694207109306166962"
     },
     "user_tz": -330
    },
    "id": "T9IfdVN6Vg2O",
    "outputId": "08e708d7-7a00-4ed0-a4b6-5dd90f462e76"
   },
   "outputs": [
    {
     "name": "stdout",
     "output_type": "stream",
     "text": [
      "Restricted license - for non-production use only - expires 2026-11-23\n"
     ]
    }
   ],
   "source": [
    "# Define the gurobipy model for the decision problem\n",
    "m = gb.Model('widgets')"
   ]
  },
  {
   "cell_type": "markdown",
   "metadata": {
    "id": "SCY0ZxC6Knh2"
   },
   "source": [
    "## Parameters\n",
    "\n",
    "*   $m_{p}$ is the max production in location $p, \\forall p \\in P$ $\\hspace{6.7cm} \\texttt{max\\_prod[p]}$\n",
    "*   $n_{d}$ is the number of customers for a distribution center $d, \\forall d \\in D$ $\\hspace{3.7cm} \\texttt{n\\_demand[d]}$\n",
    "*   $c_{p,d}$ is the cost to ship a widget between location $p$ and location $d$, $\\forall p \\in P, d \\in D$ $\\hspace{1cm} \\texttt{cost[p, d]}$"
   ]
  },
  {
   "cell_type": "code",
   "execution_count": 5,
   "metadata": {
    "executionInfo": {
     "elapsed": 641,
     "status": "ok",
     "timestamp": 1733480982097,
     "user": {
      "displayName": "Indrajit Sen Gupta",
      "userId": "00694207109306166962"
     },
     "user_tz": -330
    },
    "id": "P8uFSCngMiCS"
   },
   "outputs": [],
   "source": [
    "# Use squeeze=True to make the costs a series\n",
    "# Downloaded from https://github.com/Gurobi/modeling-examples/tree/master\n",
    "# path = \"drive/MyDrive/Colab Notebooks/gurobi_101/\"\n",
    "path = \"\"\n",
    "transp_cost = pd.read_csv(path + \"cost.csv\", index_col=[0, 1]).squeeze()"
   ]
  },
  {
   "cell_type": "code",
   "execution_count": 6,
   "metadata": {
    "colab": {
     "base_uri": "https://localhost:8080/",
     "height": 237
    },
    "executionInfo": {
     "elapsed": 1428,
     "status": "ok",
     "timestamp": 1733480984377,
     "user": {
      "displayName": "Indrajit Sen Gupta",
      "userId": "00694207109306166962"
     },
     "user_tz": -330
    },
    "id": "AJeQ9Xg4OZ_3",
    "outputId": "added5a4-c21d-4b51-f33b-eefd338ba95e"
   },
   "outputs": [
    {
     "data": {
      "text/html": [
       "<div>\n",
       "<style scoped>\n",
       "    .dataframe tbody tr th:only-of-type {\n",
       "        vertical-align: middle;\n",
       "    }\n",
       "\n",
       "    .dataframe tbody tr th {\n",
       "        vertical-align: top;\n",
       "    }\n",
       "\n",
       "    .dataframe thead th {\n",
       "        text-align: right;\n",
       "    }\n",
       "</style>\n",
       "<table border=\"1\" class=\"dataframe\">\n",
       "  <thead>\n",
       "    <tr style=\"text-align: right;\">\n",
       "      <th>distribution</th>\n",
       "      <th>Columbia</th>\n",
       "      <th>Indianapolis</th>\n",
       "      <th>Lexington</th>\n",
       "      <th>Nashville</th>\n",
       "      <th>Richmond</th>\n",
       "      <th>St_Louis</th>\n",
       "    </tr>\n",
       "    <tr>\n",
       "      <th>production</th>\n",
       "      <th></th>\n",
       "      <th></th>\n",
       "      <th></th>\n",
       "      <th></th>\n",
       "      <th></th>\n",
       "      <th></th>\n",
       "    </tr>\n",
       "  </thead>\n",
       "  <tbody>\n",
       "    <tr>\n",
       "      <th>Baltimore</th>\n",
       "      <td>4.50</td>\n",
       "      <td>5.09</td>\n",
       "      <td>4.33</td>\n",
       "      <td>5.96</td>\n",
       "      <td>1.96</td>\n",
       "      <td>7.30</td>\n",
       "    </tr>\n",
       "    <tr>\n",
       "      <th>Birmingham</th>\n",
       "      <td>3.33</td>\n",
       "      <td>4.33</td>\n",
       "      <td>3.38</td>\n",
       "      <td>1.53</td>\n",
       "      <td>5.95</td>\n",
       "      <td>4.01</td>\n",
       "    </tr>\n",
       "    <tr>\n",
       "      <th>Charleston</th>\n",
       "      <td>3.02</td>\n",
       "      <td>2.61</td>\n",
       "      <td>1.61</td>\n",
       "      <td>4.44</td>\n",
       "      <td>2.36</td>\n",
       "      <td>4.60</td>\n",
       "    </tr>\n",
       "    <tr>\n",
       "      <th>Cleveland</th>\n",
       "      <td>2.43</td>\n",
       "      <td>2.37</td>\n",
       "      <td>2.54</td>\n",
       "      <td>4.13</td>\n",
       "      <td>3.20</td>\n",
       "      <td>4.88</td>\n",
       "    </tr>\n",
       "    <tr>\n",
       "      <th>Little_Rock</th>\n",
       "      <td>6.42</td>\n",
       "      <td>4.83</td>\n",
       "      <td>3.39</td>\n",
       "      <td>4.40</td>\n",
       "      <td>7.44</td>\n",
       "      <td>2.92</td>\n",
       "    </tr>\n",
       "  </tbody>\n",
       "</table>\n",
       "</div>"
      ],
      "text/plain": [
       "distribution  Columbia  Indianapolis  Lexington  Nashville  Richmond  St_Louis\n",
       "production                                                                    \n",
       "Baltimore         4.50          5.09       4.33       5.96      1.96      7.30\n",
       "Birmingham        3.33          4.33       3.38       1.53      5.95      4.01\n",
       "Charleston        3.02          2.61       1.61       4.44      2.36      4.60\n",
       "Cleveland         2.43          2.37       2.54       4.13      3.20      4.88\n",
       "Little_Rock       6.42          4.83       3.39       4.40      7.44      2.92"
      ]
     },
     "execution_count": 6,
     "metadata": {},
     "output_type": "execute_result"
    }
   ],
   "source": [
    "# Pivot to view the costs a bit easier\n",
    "transp_cost.reset_index().pivot(index='production', columns='distribution', values='cost')"
   ]
  },
  {
   "cell_type": "code",
   "execution_count": 7,
   "metadata": {
    "executionInfo": {
     "elapsed": 331,
     "status": "ok",
     "timestamp": 1733480995677,
     "user": {
      "displayName": "Indrajit Sen Gupta",
      "userId": "00694207109306166962"
     },
     "user_tz": -330
    },
    "id": "9IHN-f4ZO4qw"
   },
   "outputs": [],
   "source": [
    "max_prod = pd.Series([180, 200, 140, 80, 180], index=production, name=\"max_production\")\n",
    "n_demand = pd.Series([89, 95, 121, 101, 116, 181], index=distribution, name=\"demand\")"
   ]
  },
  {
   "cell_type": "code",
   "execution_count": 8,
   "metadata": {
    "colab": {
     "base_uri": "https://localhost:8080/",
     "height": 206
    },
    "executionInfo": {
     "elapsed": 4,
     "status": "ok",
     "timestamp": 1733480996090,
     "user": {
      "displayName": "Indrajit Sen Gupta",
      "userId": "00694207109306166962"
     },
     "user_tz": -330
    },
    "id": "PYB96MTJO7mi",
    "outputId": "b47bb497-86b4-4e40-fd7a-0b9e5e202e7d"
   },
   "outputs": [
    {
     "data": {
      "text/html": [
       "<div>\n",
       "<style scoped>\n",
       "    .dataframe tbody tr th:only-of-type {\n",
       "        vertical-align: middle;\n",
       "    }\n",
       "\n",
       "    .dataframe tbody tr th {\n",
       "        vertical-align: top;\n",
       "    }\n",
       "\n",
       "    .dataframe thead th {\n",
       "        text-align: right;\n",
       "    }\n",
       "</style>\n",
       "<table border=\"1\" class=\"dataframe\">\n",
       "  <thead>\n",
       "    <tr style=\"text-align: right;\">\n",
       "      <th></th>\n",
       "      <th>max_production</th>\n",
       "    </tr>\n",
       "  </thead>\n",
       "  <tbody>\n",
       "    <tr>\n",
       "      <th>Baltimore</th>\n",
       "      <td>180</td>\n",
       "    </tr>\n",
       "    <tr>\n",
       "      <th>Cleveland</th>\n",
       "      <td>200</td>\n",
       "    </tr>\n",
       "    <tr>\n",
       "      <th>Little_Rock</th>\n",
       "      <td>140</td>\n",
       "    </tr>\n",
       "    <tr>\n",
       "      <th>Birmingham</th>\n",
       "      <td>80</td>\n",
       "    </tr>\n",
       "    <tr>\n",
       "      <th>Charleston</th>\n",
       "      <td>180</td>\n",
       "    </tr>\n",
       "  </tbody>\n",
       "</table>\n",
       "</div>"
      ],
      "text/plain": [
       "             max_production\n",
       "Baltimore               180\n",
       "Cleveland               200\n",
       "Little_Rock             140\n",
       "Birmingham               80\n",
       "Charleston              180"
      ]
     },
     "execution_count": 8,
     "metadata": {},
     "output_type": "execute_result"
    }
   ],
   "source": [
    "max_prod.to_frame()"
   ]
  },
  {
   "cell_type": "code",
   "execution_count": 9,
   "metadata": {
    "colab": {
     "base_uri": "https://localhost:8080/",
     "height": 237
    },
    "executionInfo": {
     "elapsed": 344,
     "status": "ok",
     "timestamp": 1733480997900,
     "user": {
      "displayName": "Indrajit Sen Gupta",
      "userId": "00694207109306166962"
     },
     "user_tz": -330
    },
    "id": "4g4-RaALQgwi",
    "outputId": "f37a2bca-aa4c-440b-ebfe-0049c6d04064"
   },
   "outputs": [
    {
     "data": {
      "text/html": [
       "<div>\n",
       "<style scoped>\n",
       "    .dataframe tbody tr th:only-of-type {\n",
       "        vertical-align: middle;\n",
       "    }\n",
       "\n",
       "    .dataframe tbody tr th {\n",
       "        vertical-align: top;\n",
       "    }\n",
       "\n",
       "    .dataframe thead th {\n",
       "        text-align: right;\n",
       "    }\n",
       "</style>\n",
       "<table border=\"1\" class=\"dataframe\">\n",
       "  <thead>\n",
       "    <tr style=\"text-align: right;\">\n",
       "      <th></th>\n",
       "      <th>demand</th>\n",
       "    </tr>\n",
       "  </thead>\n",
       "  <tbody>\n",
       "    <tr>\n",
       "      <th>Columbia</th>\n",
       "      <td>89</td>\n",
       "    </tr>\n",
       "    <tr>\n",
       "      <th>Indianapolis</th>\n",
       "      <td>95</td>\n",
       "    </tr>\n",
       "    <tr>\n",
       "      <th>Lexington</th>\n",
       "      <td>121</td>\n",
       "    </tr>\n",
       "    <tr>\n",
       "      <th>Nashville</th>\n",
       "      <td>101</td>\n",
       "    </tr>\n",
       "    <tr>\n",
       "      <th>Richmond</th>\n",
       "      <td>116</td>\n",
       "    </tr>\n",
       "    <tr>\n",
       "      <th>St_Louis</th>\n",
       "      <td>181</td>\n",
       "    </tr>\n",
       "  </tbody>\n",
       "</table>\n",
       "</div>"
      ],
      "text/plain": [
       "              demand\n",
       "Columbia          89\n",
       "Indianapolis      95\n",
       "Lexington        121\n",
       "Nashville        101\n",
       "Richmond         116\n",
       "St_Louis         181"
      ]
     },
     "execution_count": 9,
     "metadata": {},
     "output_type": "execute_result"
    }
   ],
   "source": [
    "n_demand.to_frame()"
   ]
  },
  {
   "cell_type": "markdown",
   "metadata": {
    "id": "lKle7fg-VnZS"
   },
   "source": [
    "We also have the requirement that each production facility needs to produce at 75% of this maximum output. We'll denote this value by $a$ in the formulation \"frac\" for the fraction of maximum production required. Initially we set $a = 0.75$."
   ]
  },
  {
   "cell_type": "code",
   "execution_count": 10,
   "metadata": {
    "executionInfo": {
     "elapsed": 2,
     "status": "ok",
     "timestamp": 1733480999122,
     "user": {
      "displayName": "Indrajit Sen Gupta",
      "userId": "00694207109306166962"
     },
     "user_tz": -330
    },
    "id": "DgXA_SdAWFHr"
   },
   "outputs": [],
   "source": [
    "frac = 0.75"
   ]
  },
  {
   "cell_type": "markdown",
   "metadata": {
    "id": "1Wie66QYWPb-"
   },
   "source": [
    "## Decision Variables\n",
    "The decision here is to determine the number of boxes to send from each production facility to each distribution location. Decision variables come in three main flavors:\n",
    "\n",
    "- `Continuous`: Price of a product\n",
    "- `Integer`: The number of food trucks to use for an event\n",
    "- `Binary`: Yes/No decision to include a certain stock in a portfolio\n",
    "\n",
    "Decision variables (and parameters) are indexed using elements of sets that we define for the problem. In this example, let's start with a set of cities that produce our widget, which we call set $P$ for the formulation but can define as 'production' in the code. And a set of cities that distribute the widget $D$ and 'distribution' similarly. The decision here is to determine the number of boxes to send from each production facility to each distribution location.\n",
    "\n",
    "Let $x_{p, d}$ be the number of widgets that are produced at facility $p$ and shipped to location $d$.\n",
    "\n",
    "## Add Variables in gurobipy\n",
    "$\\texttt{gurobipy}$ let's you add decision variables primarily with two (similar) commands:\n",
    "\n",
    "*   $\\texttt{addVar()}$ adds a single variable\n",
    "*   $\\texttt{addVars()}$ adds a group of variables by sets/indices"
   ]
  },
  {
   "cell_type": "code",
   "execution_count": 11,
   "metadata": {
    "executionInfo": {
     "elapsed": 329,
     "status": "ok",
     "timestamp": 1733481010593,
     "user": {
      "displayName": "Indrajit Sen Gupta",
      "userId": "00694207109306166962"
     },
     "user_tz": -330
    },
    "id": "5anQKqw6WGv2"
   },
   "outputs": [],
   "source": [
    "# Loop through each p and d combination to create a decision variable\n",
    "x = {}\n",
    "for p in production:\n",
    "    for d in distribution:\n",
    "        x[p, d] = m.addVar(name = p+\"_to_\"+d)\n",
    "m.update() # Updates the model to include any changes that have been made"
   ]
  },
  {
   "cell_type": "code",
   "execution_count": 12,
   "metadata": {
    "colab": {
     "base_uri": "https://localhost:8080/"
    },
    "executionInfo": {
     "elapsed": 326,
     "status": "ok",
     "timestamp": 1733481017600,
     "user": {
      "displayName": "Indrajit Sen Gupta",
      "userId": "00694207109306166962"
     },
     "user_tz": -330
    },
    "id": "hYaOA3xyYCnG",
    "outputId": "6e95bb2e-2be8-4dbe-abfd-b02affbd1de3"
   },
   "outputs": [
    {
     "data": {
      "text/plain": [
       "{('Baltimore', 'Columbia'): <gurobi.Var Baltimore_to_Columbia>,\n",
       " ('Baltimore', 'Indianapolis'): <gurobi.Var Baltimore_to_Indianapolis>,\n",
       " ('Baltimore', 'Lexington'): <gurobi.Var Baltimore_to_Lexington>,\n",
       " ('Baltimore', 'Nashville'): <gurobi.Var Baltimore_to_Nashville>,\n",
       " ('Baltimore', 'Richmond'): <gurobi.Var Baltimore_to_Richmond>,\n",
       " ('Baltimore', 'St_Louis'): <gurobi.Var Baltimore_to_St_Louis>,\n",
       " ('Cleveland', 'Columbia'): <gurobi.Var Cleveland_to_Columbia>,\n",
       " ('Cleveland', 'Indianapolis'): <gurobi.Var Cleveland_to_Indianapolis>,\n",
       " ('Cleveland', 'Lexington'): <gurobi.Var Cleveland_to_Lexington>,\n",
       " ('Cleveland', 'Nashville'): <gurobi.Var Cleveland_to_Nashville>,\n",
       " ('Cleveland', 'Richmond'): <gurobi.Var Cleveland_to_Richmond>,\n",
       " ('Cleveland', 'St_Louis'): <gurobi.Var Cleveland_to_St_Louis>,\n",
       " ('Little_Rock', 'Columbia'): <gurobi.Var Little_Rock_to_Columbia>,\n",
       " ('Little_Rock', 'Indianapolis'): <gurobi.Var Little_Rock_to_Indianapolis>,\n",
       " ('Little_Rock', 'Lexington'): <gurobi.Var Little_Rock_to_Lexington>,\n",
       " ('Little_Rock', 'Nashville'): <gurobi.Var Little_Rock_to_Nashville>,\n",
       " ('Little_Rock', 'Richmond'): <gurobi.Var Little_Rock_to_Richmond>,\n",
       " ('Little_Rock', 'St_Louis'): <gurobi.Var Little_Rock_to_St_Louis>,\n",
       " ('Birmingham', 'Columbia'): <gurobi.Var Birmingham_to_Columbia>,\n",
       " ('Birmingham', 'Indianapolis'): <gurobi.Var Birmingham_to_Indianapolis>,\n",
       " ('Birmingham', 'Lexington'): <gurobi.Var Birmingham_to_Lexington>,\n",
       " ('Birmingham', 'Nashville'): <gurobi.Var Birmingham_to_Nashville>,\n",
       " ('Birmingham', 'Richmond'): <gurobi.Var Birmingham_to_Richmond>,\n",
       " ('Birmingham', 'St_Louis'): <gurobi.Var Birmingham_to_St_Louis>,\n",
       " ('Charleston', 'Columbia'): <gurobi.Var Charleston_to_Columbia>,\n",
       " ('Charleston', 'Indianapolis'): <gurobi.Var Charleston_to_Indianapolis>,\n",
       " ('Charleston', 'Lexington'): <gurobi.Var Charleston_to_Lexington>,\n",
       " ('Charleston', 'Nashville'): <gurobi.Var Charleston_to_Nashville>,\n",
       " ('Charleston', 'Richmond'): <gurobi.Var Charleston_to_Richmond>,\n",
       " ('Charleston', 'St_Louis'): <gurobi.Var Charleston_to_St_Louis>}"
      ]
     },
     "execution_count": 12,
     "metadata": {},
     "output_type": "execute_result"
    }
   ],
   "source": [
    "x"
   ]
  },
  {
   "cell_type": "code",
   "execution_count": 13,
   "metadata": {
    "id": "GAuBNDXiYEP6"
   },
   "outputs": [],
   "source": [
    "# Alternate way to specify variables\n",
    "# x = m.addVars(production, distribution, name=\"prod_ship\")\n",
    "# m.update()"
   ]
  },
  {
   "cell_type": "code",
   "execution_count": 14,
   "metadata": {
    "id": "Bk3LWThvY2qT"
   },
   "outputs": [],
   "source": [
    "# Yet another way to specify variables\n",
    "# x = m.addVars(transp_cost.index, name=\"prod_ship\")\n",
    "# m.update()"
   ]
  },
  {
   "cell_type": "markdown",
   "metadata": {
    "id": "1vKJdXCMZPXd"
   },
   "source": [
    "## Constraints\n",
    "Adding constraints to a model is similar to adding variables\n",
    "\n",
    "*   $\\texttt{addConstr()}$ adds a single constraint\n",
    "*   $\\texttt{addConstrs()}$ adds a group of constraints using a Python generator expression\n",
    "\n",
    "We'll formulate the demand constraints for each distribution location first and add them to the model\n",
    "\n",
    "$$\n",
    "\\sum_{p} x_{p,d} \\ge n_{d}, \\hspace{0.5cm} \\forall\\, d \\in D \\hspace{1cm} \\texttt{meet\\_demand[d]}\n",
    "$$\n",
    "\n",
    "This will be the first time we use $\\texttt{gb.quicksum()}$. There are other ways to sum expressions in gurobipy and while this method isn't the most concise to code, it is easy to compare it to the summation in the formulation to see how it works.\n"
   ]
  },
  {
   "cell_type": "code",
   "execution_count": 15,
   "metadata": {
    "executionInfo": {
     "elapsed": 329,
     "status": "ok",
     "timestamp": 1733481031733,
     "user": {
      "displayName": "Indrajit Sen Gupta",
      "userId": "00694207109306166962"
     },
     "user_tz": -330
    },
    "id": "FvjmJnpJZD2R"
   },
   "outputs": [],
   "source": [
    "# Adding all the demand constraints\n",
    "meet_demand = m.addConstrs((gb.quicksum(x[p, d] for p in production) >= n_demand[d] for d in distribution),\n",
    "                           name = \"meet_demand\")\n",
    "m.update()"
   ]
  },
  {
   "cell_type": "code",
   "execution_count": 16,
   "metadata": {
    "colab": {
     "base_uri": "https://localhost:8080/"
    },
    "executionInfo": {
     "elapsed": 318,
     "status": "ok",
     "timestamp": 1733481036198,
     "user": {
      "displayName": "Indrajit Sen Gupta",
      "userId": "00694207109306166962"
     },
     "user_tz": -330
    },
    "id": "uTmIk39fcvvn",
    "outputId": "ecf76f87-b602-4aae-dc84-0f41ed79f973"
   },
   "outputs": [
    {
     "data": {
      "text/plain": [
       "{'Columbia': <gurobi.Constr meet_demand[Columbia]>,\n",
       " 'Indianapolis': <gurobi.Constr meet_demand[Indianapolis]>,\n",
       " 'Lexington': <gurobi.Constr meet_demand[Lexington]>,\n",
       " 'Nashville': <gurobi.Constr meet_demand[Nashville]>,\n",
       " 'Richmond': <gurobi.Constr meet_demand[Richmond]>,\n",
       " 'St_Louis': <gurobi.Constr meet_demand[St_Louis]>}"
      ]
     },
     "execution_count": 16,
     "metadata": {},
     "output_type": "execute_result"
    }
   ],
   "source": [
    "meet_demand"
   ]
  },
  {
   "cell_type": "markdown",
   "metadata": {
    "id": "v40XJc-Jc5m9"
   },
   "source": [
    "Next we have the maximum number of widgets each production facility can make. We also have that each facility must make at least 75% of its max production.\n",
    "\n",
    "$$\n",
    "\\begin{align}\n",
    "\\sum_{d} x_{p, d} \\leq m_{p}, \\hspace{1.9cm} &\\forall\\, p \\in P \\hspace{1cm} \\texttt{can\\_produce[p]}\\\\\n",
    "\\sum_{d} x_{p, d} \\geq a \\times m_{p}, \\hspace{1cm} &\\forall\\, p \\in P \\hspace{1cm} \\texttt{must\\_produce[p]}\n",
    "\\end{align}\n",
    "$$"
   ]
  },
  {
   "cell_type": "code",
   "execution_count": 17,
   "metadata": {
    "executionInfo": {
     "elapsed": 323,
     "status": "ok",
     "timestamp": 1733481047749,
     "user": {
      "displayName": "Indrajit Sen Gupta",
      "userId": "00694207109306166962"
     },
     "user_tz": -330
    },
    "id": "KWymvQTrcxDG"
   },
   "outputs": [],
   "source": [
    "# Adding all production constraints\n",
    "can_produce = m.addConstrs((gb.quicksum(x[p, d] for d in distribution) <= max_prod[p] for p in production),\n",
    "                           name = \"can_produce\")\n",
    "must_produce = m.addConstrs((gb.quicksum(x[p, d] for d in distribution) >= frac * max_prod[p] for p in production),\n",
    "                             name = \"must_produce\")\n",
    "m.update()"
   ]
  },
  {
   "cell_type": "code",
   "execution_count": 18,
   "metadata": {
    "colab": {
     "base_uri": "https://localhost:8080/"
    },
    "executionInfo": {
     "elapsed": 2,
     "status": "ok",
     "timestamp": 1733481049181,
     "user": {
      "displayName": "Indrajit Sen Gupta",
      "userId": "00694207109306166962"
     },
     "user_tz": -330
    },
    "id": "9McGwcS-iqxe",
    "outputId": "422d2ea8-bca6-44a5-e492-1b1bb9e91d0c"
   },
   "outputs": [
    {
     "data": {
      "text/plain": [
       "{'Baltimore': <gurobi.Constr can_produce[Baltimore]>,\n",
       " 'Cleveland': <gurobi.Constr can_produce[Cleveland]>,\n",
       " 'Little_Rock': <gurobi.Constr can_produce[Little_Rock]>,\n",
       " 'Birmingham': <gurobi.Constr can_produce[Birmingham]>,\n",
       " 'Charleston': <gurobi.Constr can_produce[Charleston]>}"
      ]
     },
     "execution_count": 18,
     "metadata": {},
     "output_type": "execute_result"
    }
   ],
   "source": [
    "can_produce"
   ]
  },
  {
   "cell_type": "markdown",
   "metadata": {
    "id": "Y1RiqLLii3hv"
   },
   "source": [
    "## Objective Function\n",
    "This is done using `setObjective()`. The second argument (in this case\n",
    "`GRB.MINIMIZE`) is called the model's *sense*. For maximization problem we would use `GRB.MAXIMIZE`.\n",
    "\n",
    "$$\n",
    "\\textrm{minimize} \\sum_{p, d} c_{p, d} x_{p, d} \\hspace{1cm} \\forall\\, p \\in P, d \\in D\n",
    "$$\n",
    "\n"
   ]
  },
  {
   "cell_type": "code",
   "execution_count": 19,
   "metadata": {
    "executionInfo": {
     "elapsed": 320,
     "status": "ok",
     "timestamp": 1733481054174,
     "user": {
      "displayName": "Indrajit Sen Gupta",
      "userId": "00694207109306166962"
     },
     "user_tz": -330
    },
    "id": "BhrPo56XisLX"
   },
   "outputs": [],
   "source": [
    "# Set objective to minimize the cost of transportation\n",
    "m.setObjective(gb.quicksum(transp_cost[p, d] * x[p, d] for p in production for d in distribution),\n",
    "               GRB.MINIMIZE)\n",
    "m.update()"
   ]
  },
  {
   "cell_type": "markdown",
   "metadata": {
    "id": "HNZxoqqbkVbV"
   },
   "source": [
    "## Find, Extract, and Analyze the Solution\n",
    "Before running the optimization, it is a good idea to write an lp file. This is a text file that prints out the variables, constraints, and objective like we would see in the *formulation*, just without the summation symbols and using the names we designated"
   ]
  },
  {
   "cell_type": "code",
   "execution_count": 20,
   "metadata": {
    "executionInfo": {
     "elapsed": 331,
     "status": "ok",
     "timestamp": 1733481095607,
     "user": {
      "displayName": "Indrajit Sen Gupta",
      "userId": "00694207109306166962"
     },
     "user_tz": -330
    },
    "id": "sm0KfA4EkqHE"
   },
   "outputs": [],
   "source": [
    "m.write(path + 'widget_shipment.lp')"
   ]
  },
  {
   "cell_type": "code",
   "execution_count": 21,
   "metadata": {
    "colab": {
     "base_uri": "https://localhost:8080/"
    },
    "executionInfo": {
     "elapsed": 316,
     "status": "ok",
     "timestamp": 1733481106382,
     "user": {
      "displayName": "Indrajit Sen Gupta",
      "userId": "00694207109306166962"
     },
     "user_tz": -330
    },
    "id": "ITbQHaWnkz5E",
    "outputId": "260345e2-c265-4173-d32a-a8695756970c"
   },
   "outputs": [
    {
     "name": "stdout",
     "output_type": "stream",
     "text": [
      "Gurobi Optimizer version 12.0.3 build v12.0.3rc0 (win64 - Windows 11.0 (26100.2))\n",
      "\n",
      "CPU model: AMD Ryzen 7 7800X3D 8-Core Processor, instruction set [SSE2|AVX|AVX2|AVX512]\n",
      "Thread count: 8 physical cores, 16 logical processors, using up to 16 threads\n",
      "\n",
      "Optimize a model with 16 rows, 30 columns and 90 nonzeros\n",
      "Model fingerprint: 0x20186c14\n",
      "Coefficient statistics:\n",
      "  Matrix range     [1e+00, 1e+00]\n",
      "  Objective range  [2e+00, 7e+00]\n",
      "  Bounds range     [0e+00, 0e+00]\n",
      "  RHS range        [6e+01, 2e+02]\n",
      "Presolve removed 5 rows and 0 columns\n",
      "Presolve time: 0.01s\n",
      "Presolved: 11 rows, 35 columns, 65 nonzeros\n",
      "\n",
      "Iteration    Objective       Primal Inf.    Dual Inf.      Time\n",
      "       0    0.0000000e+00   1.610000e+02   0.000000e+00      0s\n",
      "      15    1.7048900e+03   0.000000e+00   0.000000e+00      0s\n",
      "\n",
      "Solved in 15 iterations and 0.03 seconds (0.00 work units)\n",
      "Optimal objective  1.704890000e+03\n"
     ]
    }
   ],
   "source": [
    "# Run the Optimization\n",
    "m.optimize()"
   ]
  },
  {
   "cell_type": "markdown",
   "metadata": {
    "id": "Sqj14lv7nLM-"
   },
   "source": [
    "## Extract the Solution\n",
    "There are many ways to get the values of decision variables out of gurobipy"
   ]
  },
  {
   "cell_type": "code",
   "execution_count": 22,
   "metadata": {
    "colab": {
     "base_uri": "https://localhost:8080/",
     "height": 1000
    },
    "executionInfo": {
     "elapsed": 418,
     "status": "ok",
     "timestamp": 1733298141139,
     "user": {
      "displayName": "Indrajit Sen Gupta",
      "userId": "00694207109306166962"
     },
     "user_tz": -330
    },
    "id": "V0b6nph2nCjg",
    "outputId": "b0435073-5da8-415e-b160-7ab6aecb2a4e"
   },
   "outputs": [
    {
     "data": {
      "text/html": [
       "<div>\n",
       "<style scoped>\n",
       "    .dataframe tbody tr th:only-of-type {\n",
       "        vertical-align: middle;\n",
       "    }\n",
       "\n",
       "    .dataframe tbody tr th {\n",
       "        vertical-align: top;\n",
       "    }\n",
       "\n",
       "    .dataframe thead th {\n",
       "        text-align: right;\n",
       "    }\n",
       "</style>\n",
       "<table border=\"1\" class=\"dataframe\">\n",
       "  <thead>\n",
       "    <tr style=\"text-align: right;\">\n",
       "      <th></th>\n",
       "      <th></th>\n",
       "      <th>cost</th>\n",
       "      <th>shipment</th>\n",
       "    </tr>\n",
       "    <tr>\n",
       "      <th>production</th>\n",
       "      <th>distribution</th>\n",
       "      <th></th>\n",
       "      <th></th>\n",
       "    </tr>\n",
       "  </thead>\n",
       "  <tbody>\n",
       "    <tr>\n",
       "      <th rowspan=\"6\" valign=\"top\">Baltimore</th>\n",
       "      <th>Columbia</th>\n",
       "      <td>4.50</td>\n",
       "      <td>0.0</td>\n",
       "    </tr>\n",
       "    <tr>\n",
       "      <th>Indianapolis</th>\n",
       "      <td>5.09</td>\n",
       "      <td>0.0</td>\n",
       "    </tr>\n",
       "    <tr>\n",
       "      <th>Lexington</th>\n",
       "      <td>4.33</td>\n",
       "      <td>0.0</td>\n",
       "    </tr>\n",
       "    <tr>\n",
       "      <th>Nashville</th>\n",
       "      <td>5.96</td>\n",
       "      <td>19.0</td>\n",
       "    </tr>\n",
       "    <tr>\n",
       "      <th>Richmond</th>\n",
       "      <td>1.96</td>\n",
       "      <td>116.0</td>\n",
       "    </tr>\n",
       "    <tr>\n",
       "      <th>St_Louis</th>\n",
       "      <td>7.30</td>\n",
       "      <td>0.0</td>\n",
       "    </tr>\n",
       "    <tr>\n",
       "      <th rowspan=\"6\" valign=\"top\">Cleveland</th>\n",
       "      <th>Columbia</th>\n",
       "      <td>2.43</td>\n",
       "      <td>89.0</td>\n",
       "    </tr>\n",
       "    <tr>\n",
       "      <th>Indianapolis</th>\n",
       "      <td>2.37</td>\n",
       "      <td>95.0</td>\n",
       "    </tr>\n",
       "    <tr>\n",
       "      <th>Lexington</th>\n",
       "      <td>2.54</td>\n",
       "      <td>0.0</td>\n",
       "    </tr>\n",
       "    <tr>\n",
       "      <th>Nashville</th>\n",
       "      <td>4.13</td>\n",
       "      <td>2.0</td>\n",
       "    </tr>\n",
       "    <tr>\n",
       "      <th>Richmond</th>\n",
       "      <td>3.20</td>\n",
       "      <td>0.0</td>\n",
       "    </tr>\n",
       "    <tr>\n",
       "      <th>St_Louis</th>\n",
       "      <td>4.88</td>\n",
       "      <td>0.0</td>\n",
       "    </tr>\n",
       "    <tr>\n",
       "      <th rowspan=\"6\" valign=\"top\">Little_Rock</th>\n",
       "      <th>Columbia</th>\n",
       "      <td>6.42</td>\n",
       "      <td>0.0</td>\n",
       "    </tr>\n",
       "    <tr>\n",
       "      <th>Indianapolis</th>\n",
       "      <td>4.83</td>\n",
       "      <td>0.0</td>\n",
       "    </tr>\n",
       "    <tr>\n",
       "      <th>Lexington</th>\n",
       "      <td>3.39</td>\n",
       "      <td>0.0</td>\n",
       "    </tr>\n",
       "    <tr>\n",
       "      <th>Nashville</th>\n",
       "      <td>4.40</td>\n",
       "      <td>0.0</td>\n",
       "    </tr>\n",
       "    <tr>\n",
       "      <th>Richmond</th>\n",
       "      <td>7.44</td>\n",
       "      <td>0.0</td>\n",
       "    </tr>\n",
       "    <tr>\n",
       "      <th>St_Louis</th>\n",
       "      <td>2.92</td>\n",
       "      <td>140.0</td>\n",
       "    </tr>\n",
       "    <tr>\n",
       "      <th rowspan=\"6\" valign=\"top\">Birmingham</th>\n",
       "      <th>Columbia</th>\n",
       "      <td>3.33</td>\n",
       "      <td>0.0</td>\n",
       "    </tr>\n",
       "    <tr>\n",
       "      <th>Indianapolis</th>\n",
       "      <td>4.33</td>\n",
       "      <td>0.0</td>\n",
       "    </tr>\n",
       "    <tr>\n",
       "      <th>Lexington</th>\n",
       "      <td>3.38</td>\n",
       "      <td>0.0</td>\n",
       "    </tr>\n",
       "    <tr>\n",
       "      <th>Nashville</th>\n",
       "      <td>1.53</td>\n",
       "      <td>80.0</td>\n",
       "    </tr>\n",
       "    <tr>\n",
       "      <th>Richmond</th>\n",
       "      <td>5.95</td>\n",
       "      <td>0.0</td>\n",
       "    </tr>\n",
       "    <tr>\n",
       "      <th>St_Louis</th>\n",
       "      <td>4.01</td>\n",
       "      <td>0.0</td>\n",
       "    </tr>\n",
       "    <tr>\n",
       "      <th rowspan=\"6\" valign=\"top\">Charleston</th>\n",
       "      <th>Columbia</th>\n",
       "      <td>3.02</td>\n",
       "      <td>0.0</td>\n",
       "    </tr>\n",
       "    <tr>\n",
       "      <th>Indianapolis</th>\n",
       "      <td>2.61</td>\n",
       "      <td>0.0</td>\n",
       "    </tr>\n",
       "    <tr>\n",
       "      <th>Lexington</th>\n",
       "      <td>1.61</td>\n",
       "      <td>121.0</td>\n",
       "    </tr>\n",
       "    <tr>\n",
       "      <th>Nashville</th>\n",
       "      <td>4.44</td>\n",
       "      <td>0.0</td>\n",
       "    </tr>\n",
       "    <tr>\n",
       "      <th>Richmond</th>\n",
       "      <td>2.36</td>\n",
       "      <td>0.0</td>\n",
       "    </tr>\n",
       "    <tr>\n",
       "      <th>St_Louis</th>\n",
       "      <td>4.60</td>\n",
       "      <td>41.0</td>\n",
       "    </tr>\n",
       "  </tbody>\n",
       "</table>\n",
       "</div>"
      ],
      "text/plain": [
       "                          cost  shipment\n",
       "production  distribution                \n",
       "Baltimore   Columbia      4.50       0.0\n",
       "            Indianapolis  5.09       0.0\n",
       "            Lexington     4.33       0.0\n",
       "            Nashville     5.96      19.0\n",
       "            Richmond      1.96     116.0\n",
       "            St_Louis      7.30       0.0\n",
       "Cleveland   Columbia      2.43      89.0\n",
       "            Indianapolis  2.37      95.0\n",
       "            Lexington     2.54       0.0\n",
       "            Nashville     4.13       2.0\n",
       "            Richmond      3.20       0.0\n",
       "            St_Louis      4.88       0.0\n",
       "Little_Rock Columbia      6.42       0.0\n",
       "            Indianapolis  4.83       0.0\n",
       "            Lexington     3.39       0.0\n",
       "            Nashville     4.40       0.0\n",
       "            Richmond      7.44       0.0\n",
       "            St_Louis      2.92     140.0\n",
       "Birmingham  Columbia      3.33       0.0\n",
       "            Indianapolis  4.33       0.0\n",
       "            Lexington     3.38       0.0\n",
       "            Nashville     1.53      80.0\n",
       "            Richmond      5.95       0.0\n",
       "            St_Louis      4.01       0.0\n",
       "Charleston  Columbia      3.02       0.0\n",
       "            Indianapolis  2.61       0.0\n",
       "            Lexington     1.61     121.0\n",
       "            Nashville     4.44       0.0\n",
       "            Richmond      2.36       0.0\n",
       "            St_Louis      4.60      41.0"
      ]
     },
     "execution_count": 22,
     "metadata": {},
     "output_type": "execute_result"
    }
   ],
   "source": [
    "# The uppercase 'X' is the attribute of the decision variable 'x'\n",
    "x_values = pd.Series(m.getAttr('X', x), name=\"shipment\", index=transp_cost.index)\n",
    "sol = pd.concat([transp_cost, x_values], axis=1)\n",
    "sol"
   ]
  },
  {
   "cell_type": "code",
   "execution_count": 23,
   "metadata": {
    "colab": {
     "base_uri": "https://localhost:8080/",
     "height": 363
    },
    "executionInfo": {
     "elapsed": 626,
     "status": "ok",
     "timestamp": 1733298246811,
     "user": {
      "displayName": "Indrajit Sen Gupta",
      "userId": "00694207109306166962"
     },
     "user_tz": -330
    },
    "id": "ylF5JVxMnrOI",
    "outputId": "0e12e204-8961-4dfe-ee40-f754d5a9a14d"
   },
   "outputs": [
    {
     "data": {
      "text/html": [
       "<div>\n",
       "<style scoped>\n",
       "    .dataframe tbody tr th:only-of-type {\n",
       "        vertical-align: middle;\n",
       "    }\n",
       "\n",
       "    .dataframe tbody tr th {\n",
       "        vertical-align: top;\n",
       "    }\n",
       "\n",
       "    .dataframe thead th {\n",
       "        text-align: right;\n",
       "    }\n",
       "</style>\n",
       "<table border=\"1\" class=\"dataframe\">\n",
       "  <thead>\n",
       "    <tr style=\"text-align: right;\">\n",
       "      <th></th>\n",
       "      <th></th>\n",
       "      <th>cost</th>\n",
       "      <th>shipment</th>\n",
       "    </tr>\n",
       "    <tr>\n",
       "      <th>production</th>\n",
       "      <th>distribution</th>\n",
       "      <th></th>\n",
       "      <th></th>\n",
       "    </tr>\n",
       "  </thead>\n",
       "  <tbody>\n",
       "    <tr>\n",
       "      <th rowspan=\"2\" valign=\"top\">Baltimore</th>\n",
       "      <th>Nashville</th>\n",
       "      <td>5.96</td>\n",
       "      <td>19.0</td>\n",
       "    </tr>\n",
       "    <tr>\n",
       "      <th>Richmond</th>\n",
       "      <td>1.96</td>\n",
       "      <td>116.0</td>\n",
       "    </tr>\n",
       "    <tr>\n",
       "      <th rowspan=\"3\" valign=\"top\">Cleveland</th>\n",
       "      <th>Columbia</th>\n",
       "      <td>2.43</td>\n",
       "      <td>89.0</td>\n",
       "    </tr>\n",
       "    <tr>\n",
       "      <th>Indianapolis</th>\n",
       "      <td>2.37</td>\n",
       "      <td>95.0</td>\n",
       "    </tr>\n",
       "    <tr>\n",
       "      <th>Nashville</th>\n",
       "      <td>4.13</td>\n",
       "      <td>2.0</td>\n",
       "    </tr>\n",
       "    <tr>\n",
       "      <th>Little_Rock</th>\n",
       "      <th>St_Louis</th>\n",
       "      <td>2.92</td>\n",
       "      <td>140.0</td>\n",
       "    </tr>\n",
       "    <tr>\n",
       "      <th>Birmingham</th>\n",
       "      <th>Nashville</th>\n",
       "      <td>1.53</td>\n",
       "      <td>80.0</td>\n",
       "    </tr>\n",
       "    <tr>\n",
       "      <th rowspan=\"2\" valign=\"top\">Charleston</th>\n",
       "      <th>Lexington</th>\n",
       "      <td>1.61</td>\n",
       "      <td>121.0</td>\n",
       "    </tr>\n",
       "    <tr>\n",
       "      <th>St_Louis</th>\n",
       "      <td>4.60</td>\n",
       "      <td>41.0</td>\n",
       "    </tr>\n",
       "  </tbody>\n",
       "</table>\n",
       "</div>"
      ],
      "text/plain": [
       "                          cost  shipment\n",
       "production  distribution                \n",
       "Baltimore   Nashville     5.96      19.0\n",
       "            Richmond      1.96     116.0\n",
       "Cleveland   Columbia      2.43      89.0\n",
       "            Indianapolis  2.37      95.0\n",
       "            Nashville     4.13       2.0\n",
       "Little_Rock St_Louis      2.92     140.0\n",
       "Birmingham  Nashville     1.53      80.0\n",
       "Charleston  Lexington     1.61     121.0\n",
       "            St_Louis      4.60      41.0"
      ]
     },
     "execution_count": 23,
     "metadata": {},
     "output_type": "execute_result"
    }
   ],
   "source": [
    "sol[sol.shipment > 0]"
   ]
  },
  {
   "cell_type": "code",
   "execution_count": 24,
   "metadata": {
    "colab": {
     "base_uri": "https://localhost:8080/"
    },
    "executionInfo": {
     "elapsed": 359,
     "status": "ok",
     "timestamp": 1733298387347,
     "user": {
      "displayName": "Indrajit Sen Gupta",
      "userId": "00694207109306166962"
     },
     "user_tz": -330
    },
    "id": "tqwG9d-nn5_Q",
    "outputId": "dcf33853-26c7-425c-a1f5-d5ac49f65a09"
   },
   "outputs": [
    {
     "data": {
      "text/plain": [
       "{'Baltimore_to_Columbia': 0.0,\n",
       " 'Baltimore_to_Indianapolis': 0.0,\n",
       " 'Baltimore_to_Lexington': 0.0,\n",
       " 'Baltimore_to_Nashville': 19.0,\n",
       " 'Baltimore_to_Richmond': 116.0,\n",
       " 'Baltimore_to_St_Louis': 0.0,\n",
       " 'Cleveland_to_Columbia': 89.0,\n",
       " 'Cleveland_to_Indianapolis': 95.0,\n",
       " 'Cleveland_to_Lexington': 0.0,\n",
       " 'Cleveland_to_Nashville': 2.0,\n",
       " 'Cleveland_to_Richmond': 0.0,\n",
       " 'Cleveland_to_St_Louis': 0.0,\n",
       " 'Little_Rock_to_Columbia': 0.0,\n",
       " 'Little_Rock_to_Indianapolis': 0.0,\n",
       " 'Little_Rock_to_Lexington': 0.0,\n",
       " 'Little_Rock_to_Nashville': 0.0,\n",
       " 'Little_Rock_to_Richmond': 0.0,\n",
       " 'Little_Rock_to_St_Louis': 140.0,\n",
       " 'Birmingham_to_Columbia': 0.0,\n",
       " 'Birmingham_to_Indianapolis': 0.0,\n",
       " 'Birmingham_to_Lexington': 0.0,\n",
       " 'Birmingham_to_Nashville': 80.0,\n",
       " 'Birmingham_to_Richmond': 0.0,\n",
       " 'Birmingham_to_St_Louis': 0.0,\n",
       " 'Charleston_to_Columbia': 0.0,\n",
       " 'Charleston_to_Indianapolis': 0.0,\n",
       " 'Charleston_to_Lexington': 121.0,\n",
       " 'Charleston_to_Nashville': 0.0,\n",
       " 'Charleston_to_Richmond': 0.0,\n",
       " 'Charleston_to_St_Louis': 41.0}"
      ]
     },
     "execution_count": 24,
     "metadata": {},
     "output_type": "execute_result"
    }
   ],
   "source": [
    "# You can the name and value of all the decision variables:\n",
    "all_vars = {v.varName: v.x for v in m.getVars()}\n",
    "all_vars"
   ]
  },
  {
   "cell_type": "code",
   "execution_count": 25,
   "metadata": {
    "colab": {
     "base_uri": "https://localhost:8080/"
    },
    "executionInfo": {
     "elapsed": 360,
     "status": "ok",
     "timestamp": 1733298686979,
     "user": {
      "displayName": "Indrajit Sen Gupta",
      "userId": "00694207109306166962"
     },
     "user_tz": -330
    },
    "id": "SZrpQRsVonOX",
    "outputId": "707f5ef5-244c-4e32-fafc-d416b8bd7df8"
   },
   "outputs": [
    {
     "data": {
      "text/plain": [
       "{('Baltimore', 'Nashville'): 19.0,\n",
       " ('Baltimore', 'Richmond'): 116.0,\n",
       " ('Cleveland', 'Columbia'): 89.0,\n",
       " ('Cleveland', 'Indianapolis'): 95.0,\n",
       " ('Cleveland', 'Nashville'): 2.0,\n",
       " ('Little_Rock', 'St_Louis'): 140.0,\n",
       " ('Birmingham', 'Nashville'): 80.0,\n",
       " ('Charleston', 'Lexington'): 121.0,\n",
       " ('Charleston', 'St_Louis'): 41.0}"
      ]
     },
     "execution_count": 25,
     "metadata": {},
     "output_type": "execute_result"
    }
   ],
   "source": [
    "# Or we can interate over a specific variable and only return values that are of interest to us.\n",
    "xvals = {k: v.x for k, v in x.items() if v.x > 0}\n",
    "xvals"
   ]
  },
  {
   "cell_type": "markdown",
   "metadata": {
    "id": "bch29eB0pHvQ"
   },
   "source": [
    "## Solution Analysis\n",
    "\n",
    "While determining the optimal transportation of widgets was our goal, we may want to dig a little deaper into the solution. For example, we can aggregate the total production by facility to see which locations (if any) did not produce their maximum capacity of widgets and which (if any) production facilities are at the lower bound of their production."
   ]
  },
  {
   "cell_type": "code",
   "execution_count": 26,
   "metadata": {},
   "outputs": [
    {
     "data": {
      "text/html": [
       "<div>\n",
       "<style scoped>\n",
       "    .dataframe tbody tr th:only-of-type {\n",
       "        vertical-align: middle;\n",
       "    }\n",
       "\n",
       "    .dataframe tbody tr th {\n",
       "        vertical-align: top;\n",
       "    }\n",
       "\n",
       "    .dataframe thead th {\n",
       "        text-align: right;\n",
       "    }\n",
       "</style>\n",
       "<table border=\"1\" class=\"dataframe\">\n",
       "  <thead>\n",
       "    <tr style=\"text-align: right;\">\n",
       "      <th></th>\n",
       "      <th>Remaining</th>\n",
       "      <th>Utilization</th>\n",
       "      <th>Max Capacity</th>\n",
       "    </tr>\n",
       "  </thead>\n",
       "  <tbody>\n",
       "    <tr>\n",
       "      <th>Baltimore</th>\n",
       "      <td>45.0</td>\n",
       "      <td>0.75</td>\n",
       "      <td>180</td>\n",
       "    </tr>\n",
       "    <tr>\n",
       "      <th>Birmingham</th>\n",
       "      <td>0.0</td>\n",
       "      <td>1.00</td>\n",
       "      <td>80</td>\n",
       "    </tr>\n",
       "    <tr>\n",
       "      <th>Charleston</th>\n",
       "      <td>18.0</td>\n",
       "      <td>0.90</td>\n",
       "      <td>180</td>\n",
       "    </tr>\n",
       "    <tr>\n",
       "      <th>Cleveland</th>\n",
       "      <td>14.0</td>\n",
       "      <td>0.93</td>\n",
       "      <td>200</td>\n",
       "    </tr>\n",
       "    <tr>\n",
       "      <th>Little_Rock</th>\n",
       "      <td>0.0</td>\n",
       "      <td>1.00</td>\n",
       "      <td>140</td>\n",
       "    </tr>\n",
       "  </tbody>\n",
       "</table>\n",
       "</div>"
      ],
      "text/plain": [
       "             Remaining  Utilization  Max Capacity\n",
       "Baltimore         45.0         0.75           180\n",
       "Birmingham         0.0         1.00            80\n",
       "Charleston        18.0         0.90           180\n",
       "Cleveland         14.0         0.93           200\n",
       "Little_Rock        0.0         1.00           140"
      ]
     },
     "execution_count": 26,
     "metadata": {},
     "output_type": "execute_result"
    }
   ],
   "source": [
    "# Sum the shipment amount by production facility\n",
    "ship_out = sol.groupby('production')['shipment'].sum()\n",
    "ship_out_df = pd.DataFrame({\n",
    "    'Remaining': max_prod - ship_out,\n",
    "    'Utilization': ship_out/max_prod,\n",
    "    'Max Capacity': max_prod\n",
    "})\n",
    "ship_out_df.head(10)"
   ]
  },
  {
   "cell_type": "markdown",
   "metadata": {},
   "source": [
    "In mathematical optimization, when the left-hand and the right-hand sides of an inequality constraint are equal, we say the constraint is *binding*. When this *doesn't happen* then there is **slack** or **surplus** in that constraint. We can get this value by calling the `Slack` attribute of a constraint."
   ]
  },
  {
   "cell_type": "code",
   "execution_count": 27,
   "metadata": {},
   "outputs": [],
   "source": [
    "slack_df = pd.DataFrame({\n",
    "    'Remaining': [can_produce[p].Slack for p in production],\n",
    "    'Utilization': [1-can_produce[p].Slack/max_prod[p] for p in production]\n",
    "}, index=production)"
   ]
  },
  {
   "cell_type": "code",
   "execution_count": 28,
   "metadata": {},
   "outputs": [
    {
     "data": {
      "text/html": [
       "<div>\n",
       "<style scoped>\n",
       "    .dataframe tbody tr th:only-of-type {\n",
       "        vertical-align: middle;\n",
       "    }\n",
       "\n",
       "    .dataframe tbody tr th {\n",
       "        vertical-align: top;\n",
       "    }\n",
       "\n",
       "    .dataframe thead th {\n",
       "        text-align: right;\n",
       "    }\n",
       "</style>\n",
       "<table border=\"1\" class=\"dataframe\">\n",
       "  <thead>\n",
       "    <tr style=\"text-align: right;\">\n",
       "      <th></th>\n",
       "      <th>Remaining</th>\n",
       "      <th>Utilization</th>\n",
       "    </tr>\n",
       "  </thead>\n",
       "  <tbody>\n",
       "    <tr>\n",
       "      <th>Baltimore</th>\n",
       "      <td>45.0</td>\n",
       "      <td>0.75</td>\n",
       "    </tr>\n",
       "    <tr>\n",
       "      <th>Cleveland</th>\n",
       "      <td>14.0</td>\n",
       "      <td>0.93</td>\n",
       "    </tr>\n",
       "    <tr>\n",
       "      <th>Little_Rock</th>\n",
       "      <td>0.0</td>\n",
       "      <td>1.00</td>\n",
       "    </tr>\n",
       "    <tr>\n",
       "      <th>Birmingham</th>\n",
       "      <td>0.0</td>\n",
       "      <td>1.00</td>\n",
       "    </tr>\n",
       "    <tr>\n",
       "      <th>Charleston</th>\n",
       "      <td>18.0</td>\n",
       "      <td>0.90</td>\n",
       "    </tr>\n",
       "  </tbody>\n",
       "</table>\n",
       "</div>"
      ],
      "text/plain": [
       "             Remaining  Utilization\n",
       "Baltimore         45.0         0.75\n",
       "Cleveland         14.0         0.93\n",
       "Little_Rock        0.0         1.00\n",
       "Birmingham         0.0         1.00\n",
       "Charleston        18.0         0.90"
      ]
     },
     "execution_count": 28,
     "metadata": {},
     "output_type": "execute_result"
    }
   ],
   "source": [
    "slack_df.head(10)"
   ]
  },
  {
   "cell_type": "markdown",
   "metadata": {},
   "source": [
    "## Using Binary Variables\n",
    "\n",
    "Binary variables are used to choose alternatives in mathematical optimization. They can be interpreted as a yes/no or a an on/off switch.\n",
    "\n",
    "In the original problem Birmingham's production is much lower than the rest of the facilities. Suppose we have the option to expand that facilities max capacity by either 25 or 50 widgets, but there is a cost of \\\\$50 and \\\\$70, respectively, to choose one of these options and we can choose at most one. We'll use a binary decision variable for each option named $xprod$.\n",
    "\n",
    "Let $xprod_{0} = 1$ if we choose the first option and expand production capacity by 25 and 0 otherwise. Let $xprod_{1} = 1$ if we choose the second option and expand production capacity by 50 and 0 otherwise.\n",
    "\n",
    "While it's fairly common to use single lowercase letters as decision variables, it is not necessary and you'll see variables defined as above (where they are more descriptive) quite often. We will formulate a new model that contains the same decision variables and demand constraints as before."
   ]
  },
  {
   "cell_type": "code",
   "execution_count": 29,
   "metadata": {},
   "outputs": [],
   "source": [
    "# We use m2 for the second model\n",
    "m2 = gb.Model('widget2')\n",
    "\n",
    "x = {}\n",
    "for p in production:\n",
    "    for d in distribution:\n",
    "        x[p, d] = m2.addVar(name = p+\"_to_\"+d)\n",
    "\n",
    "#x = m2.addVars(production, distribution, obj = transp_cost, name='prod_ship')\n",
    "m2.setObjective(gb.quicksum(transp_cost[p, d] * x[p, d] for p in production for d in distribution),\n",
    "                GRB.MINIMIZE)\n",
    "    \n",
    "meet_demand = m2.addConstrs((gb.quicksum(x[p, d] for p in production) >= n_demand[d] for d in distribution), name=\"meet_demand\")\n",
    "m2.update()"
   ]
  },
  {
   "cell_type": "markdown",
   "metadata": {},
   "source": [
    "In the cell above we can also use `x = m2.addVars(production, distribution, obj = transp_cost, name='prod_ship')`. This will set the coefficient of the added decision variables in the objective function and is equivalent to what we did earlier by attaching the transportation costs between each production and distribution location to the appropriate decision variable.\n",
    "\n",
    "Next, we'll add the same constraints for production limits as before for each production facility other than Birmingham. The formulation is basically the same other than the set the constraints hold for.\n",
    "$$\n",
    "\\begin{align}\n",
    "\\sum_{d} x_{p, d} \\leq m_{p}, \\hspace{1.9cm} &\\forall p \\in P - {\\textrm{Birmingham}} \\\\\n",
    "\\sum_{d} x_{p, d} \\geq a \\times m_{p}, \\hspace{1cm} &\\forall p \\in P - {\\textrm{Birmingham}} \\\\\n",
    "\\end{align}\n",
    "$$\n",
    "\n",
    "In gurobipy, this is done by adding a condition in the generator expression"
   ]
  },
  {
   "cell_type": "code",
   "execution_count": 30,
   "metadata": {},
   "outputs": [],
   "source": [
    "can_produce = m2.addConstrs((gb.quicksum(x[p, d] for d in distribution) <= max_prod[p] for p in production if p != \"Birmingham\"),\n",
    "                           name=\"can_produce\")\n",
    "must_produce = m2.addConstrs((gb.quicksum(x[p, d] for d in distribution) >= frac * max_prod[p] for p in production if p != \"Birmingham\"),\n",
    "                             name=\"must_produce\")"
   ]
  },
  {
   "cell_type": "markdown",
   "metadata": {},
   "source": [
    "Now, we add the new binary variables"
   ]
  },
  {
   "cell_type": "code",
   "execution_count": 31,
   "metadata": {},
   "outputs": [],
   "source": [
    "b_prod_costs = {0: 50, 1: 70}\n",
    "xprod = m2.addVars(range(2), vtype=GRB.BINARY, obj=b_prod_costs, name='expand_birmingham_prod')\n",
    "\n",
    "m2.update()"
   ]
  },
  {
   "cell_type": "markdown",
   "metadata": {},
   "source": [
    "Let's breakdown each of the arguments in the cell above - there are a few new things here.\n",
    "\n",
    "1. `range(n)` is used to add $n$ decision variables. In this case we add two variables.\n",
    "2. We need to declare this as a binary variable using `vtype`.\n",
    "3. We again use the `obj` capability to immediately set the objective function coefficients for these variables\n",
    "\n",
    "The objective and new binary variables look like this in the formulation:\n",
    "$$\n",
    "\\begin{align}\n",
    "\\textrm{minimize} &\\sum_{p, d} c_{p, d}x_{p, d} + 50 \\times xprod_{0} + 75 \\times xprod_{1} \\hspace{0.5cm} \\forall \\, p \\in P,\\, d \\in D\\\\\n",
    "& xprod_{i} \\in \\{0, 1\\}, \\hspace{5cm} \\textrm{for}\\,\\, i \\in \\{0, 1\\}\n",
    "\\end{align}\n",
    "$$"
   ]
  },
  {
   "cell_type": "markdown",
   "metadata": {},
   "source": [
    "Next we have the production constraints that are specific to the Birmingham facility\n",
    "\n",
    "$$\n",
    "\\begin{align}\n",
    "\\sum_{d} &x_{p, d} \\leq m_{p} + 25 \\times xprod_{0} + 50 \\times xprod_{1}, \\hspace{2cm} p = \\textrm{Birmingham}\\\\\n",
    "\\sum_{d} &x_{p, d} \\geq a \\times (m_{p} + 25 \\times xprod_{0} + 50 \\times xprod_{3}), \\hspace{1cm} p = \\textrm{Birmingham}\\\\\n",
    "\\end{align}\n",
    "$$"
   ]
  },
  {
   "cell_type": "code",
   "execution_count": 32,
   "metadata": {},
   "outputs": [],
   "source": [
    "birmingham_max = m2.addConstr(gb.quicksum(x['Birmingham', d] for d in distribution) <= max_prod['Birmingham'] + 25*xprod[0] + 50*xprod[1],\n",
    "                              name='birmingham_add_max')\n",
    "birmingham_min = m2.addConstr(gb.quicksum(x['Birmingham', d] for d in distribution) >= frac*(max_prod['Birmingham'] + 25*xprod[0] + 50*xprod[1]),\n",
    "                              name='birmingham_add_min')\n",
    "m2.update()"
   ]
  },
  {
   "cell_type": "markdown",
   "metadata": {},
   "source": [
    "It was stated above that we can select at most one of the expansion options which means we cannot allow both $xprod_{0}$ and $xprod_{x}$ to equal to one. To model this we add a constraint limiting the sum of these two binary variables to at most one\n",
    "$$\n",
    "\\sum_{x} xprod_{i} \\leq 1\n",
    "$$\n",
    "The corresponding constraint in gurobipy:"
   ]
  },
  {
   "cell_type": "code",
   "execution_count": 33,
   "metadata": {},
   "outputs": [],
   "source": [
    "birmingham_lim = m2.addConstr(gb.quicksum(xprod[i] for i in range(2)) <= 1, name = 'expansion_choice')\n",
    "m2.update()"
   ]
  },
  {
   "cell_type": "code",
   "execution_count": 35,
   "metadata": {},
   "outputs": [
    {
     "name": "stdout",
     "output_type": "stream",
     "text": [
      "Gurobi Optimizer version 12.0.3 build v12.0.3rc0 (win64 - Windows 11.0 (26100.2))\n",
      "\n",
      "CPU model: AMD Ryzen 7 7800X3D 8-Core Processor, instruction set [SSE2|AVX|AVX2|AVX512]\n",
      "Thread count: 8 physical cores, 16 logical processors, using up to 16 threads\n",
      "\n",
      "Optimize a model with 17 rows, 32 columns and 96 nonzeros\n",
      "Model fingerprint: 0xe9f5de1e\n",
      "Variable types: 30 continuous, 2 integer (2 binary)\n",
      "Coefficient statistics:\n",
      "  Matrix range     [1e+00, 5e+01]\n",
      "  Objective range  [2e+00, 7e+01]\n",
      "  Bounds range     [1e+00, 1e+00]\n",
      "  RHS range        [1e+00, 2e+02]\n",
      "Presolve time: 0.06s\n",
      "Presolved: 17 rows, 32 columns, 96 nonzeros\n",
      "Variable types: 30 continuous, 2 integer (2 binary)\n",
      "Found heuristic solution: objective 1704.8900000\n",
      "\n",
      "Root relaxation: objective 1.694760e+03, 14 iterations, 0.00 seconds (0.00 work units)\n",
      "\n",
      "    Nodes    |    Current Node    |     Objective Bounds      |     Work\n",
      " Expl Unexpl |  Obj  Depth IntInf | Incumbent    BestBd   Gap | It/Node Time\n",
      "\n",
      "     0     0 1694.76000    0    1 1704.89000 1694.76000  0.59%     -    0s\n",
      "H    0     0                    1702.7600000 1694.76000  0.47%     -    0s\n",
      "*    0     0               0    1700.4000000 1700.40000  0.00%     -    0s\n",
      "\n",
      "Explored 1 nodes (15 simplex iterations) in 0.20 seconds (0.00 work units)\n",
      "Thread count was 16 (of 16 available processors)\n",
      "\n",
      "Solution count 2: 1700.4 1704.89 \n",
      "\n",
      "Optimal solution found (tolerance 1.00e-04)\n",
      "Best objective 1.700400000000e+03, best bound 1.700400000000e+03, gap 0.0000%\n"
     ]
    }
   ],
   "source": [
    "m2.optimize()"
   ]
  },
  {
   "cell_type": "code",
   "execution_count": 36,
   "metadata": {},
   "outputs": [
    {
     "name": "stdout",
     "output_type": "stream",
     "text": [
      "The original model had a total cost of 1704.89\n",
      "The new formulation has a total cost of 1700.4\n"
     ]
    }
   ],
   "source": [
    "obj1 = m.getObjective()\n",
    "obj2 = m2.getObjective()\n",
    "print(f\"The original model had a total cost of {round(obj1.getValue(), 2)}\")\n",
    "print(f\"The new formulation has a total cost of {round(obj2.getValue(), 2)}\")"
   ]
  },
  {
   "cell_type": "markdown",
   "metadata": {},
   "source": [
    "What does the change in objective function value tell us?\n",
    "\n",
    "Let's look at values of our binary variables"
   ]
  },
  {
   "cell_type": "code",
   "execution_count": 37,
   "metadata": {},
   "outputs": [
    {
     "data": {
      "text/plain": [
       "0    1.0\n",
       "1   -0.0\n",
       "dtype: float64"
      ]
     },
     "execution_count": 37,
     "metadata": {},
     "output_type": "execute_result"
    }
   ],
   "source": [
    "pd.Series(m2.getAttr('X', xprod))"
   ]
  },
  {
   "cell_type": "markdown",
   "metadata": {},
   "source": [
    "The model selected the first expansion option since $xprod_{0} = 1$, which was increasing production by 25 widgets in Birmingham. We can see the rest of the solution, which will include the increase in Birmingham's production capacity."
   ]
  },
  {
   "cell_type": "code",
   "execution_count": 42,
   "metadata": {},
   "outputs": [
    {
     "data": {
      "text/html": [
       "<div>\n",
       "<style scoped>\n",
       "    .dataframe tbody tr th:only-of-type {\n",
       "        vertical-align: middle;\n",
       "    }\n",
       "\n",
       "    .dataframe tbody tr th {\n",
       "        vertical-align: top;\n",
       "    }\n",
       "\n",
       "    .dataframe thead th {\n",
       "        text-align: right;\n",
       "    }\n",
       "</style>\n",
       "<table border=\"1\" class=\"dataframe\">\n",
       "  <thead>\n",
       "    <tr style=\"text-align: right;\">\n",
       "      <th></th>\n",
       "      <th></th>\n",
       "      <th>cost</th>\n",
       "      <th>shipment</th>\n",
       "    </tr>\n",
       "    <tr>\n",
       "      <th>production</th>\n",
       "      <th>distribution</th>\n",
       "      <th></th>\n",
       "      <th></th>\n",
       "    </tr>\n",
       "  </thead>\n",
       "  <tbody>\n",
       "    <tr>\n",
       "      <th>Baltimore</th>\n",
       "      <th>Richmond</th>\n",
       "      <td>1.96</td>\n",
       "      <td>135.0</td>\n",
       "    </tr>\n",
       "    <tr>\n",
       "      <th rowspan=\"2\" valign=\"top\">Cleveland</th>\n",
       "      <th>Columbia</th>\n",
       "      <td>2.43</td>\n",
       "      <td>89.0</td>\n",
       "    </tr>\n",
       "    <tr>\n",
       "      <th>Indianapolis</th>\n",
       "      <td>2.37</td>\n",
       "      <td>95.0</td>\n",
       "    </tr>\n",
       "    <tr>\n",
       "      <th>Little_Rock</th>\n",
       "      <th>St_Louis</th>\n",
       "      <td>2.92</td>\n",
       "      <td>140.0</td>\n",
       "    </tr>\n",
       "    <tr>\n",
       "      <th rowspan=\"2\" valign=\"top\">Birmingham</th>\n",
       "      <th>Nashville</th>\n",
       "      <td>1.53</td>\n",
       "      <td>101.0</td>\n",
       "    </tr>\n",
       "    <tr>\n",
       "      <th>St_Louis</th>\n",
       "      <td>4.01</td>\n",
       "      <td>4.0</td>\n",
       "    </tr>\n",
       "    <tr>\n",
       "      <th rowspan=\"2\" valign=\"top\">Charleston</th>\n",
       "      <th>Lexington</th>\n",
       "      <td>1.61</td>\n",
       "      <td>121.0</td>\n",
       "    </tr>\n",
       "    <tr>\n",
       "      <th>St_Louis</th>\n",
       "      <td>4.60</td>\n",
       "      <td>37.0</td>\n",
       "    </tr>\n",
       "  </tbody>\n",
       "</table>\n",
       "</div>"
      ],
      "text/plain": [
       "                          cost  shipment\n",
       "production  distribution                \n",
       "Baltimore   Richmond      1.96     135.0\n",
       "Cleveland   Columbia      2.43      89.0\n",
       "            Indianapolis  2.37      95.0\n",
       "Little_Rock St_Louis      2.92     140.0\n",
       "Birmingham  Nashville     1.53     101.0\n",
       "            St_Louis      4.01       4.0\n",
       "Charleston  Lexington     1.61     121.0\n",
       "            St_Louis      4.60      37.0"
      ]
     },
     "execution_count": 42,
     "metadata": {},
     "output_type": "execute_result"
    }
   ],
   "source": [
    "x2_values = pd.Series(m2.getAttr('X', x), name=\"shipment\", index=transp_cost.index)\n",
    "sol2 = pd.concat([transp_cost, x2_values], axis=1)\n",
    "sol2[sol2.shipment > 0]"
   ]
  },
  {
   "cell_type": "code",
   "execution_count": 45,
   "metadata": {},
   "outputs": [
    {
     "data": {
      "text/plain": [
       "production\n",
       "Baltimore      135.0\n",
       "Birmingham     105.0\n",
       "Charleston     158.0\n",
       "Cleveland      184.0\n",
       "Little_Rock    140.0\n",
       "Name: shipment, dtype: float64"
      ]
     },
     "execution_count": 45,
     "metadata": {},
     "output_type": "execute_result"
    }
   ],
   "source": [
    "# Sum the shipment amount by production facility\n",
    "ship_out2 = sol2.groupby('production')['shipment'].sum()\n",
    "ship_out2.head()"
   ]
  },
  {
   "cell_type": "code",
   "execution_count": 54,
   "metadata": {},
   "outputs": [
    {
     "data": {
      "text/plain": [
       "Baltimore      180\n",
       "Cleveland      200\n",
       "Little_Rock    140\n",
       "Birmingham     105\n",
       "Charleston     180\n",
       "Name: max_production, dtype: int64"
      ]
     },
     "execution_count": 54,
     "metadata": {},
     "output_type": "execute_result"
    }
   ],
   "source": [
    "# Update max_prod based on xprod\n",
    "max_prod2 = max_prod.copy()\n",
    "max_prod2['Birmingham'] = max_prod2['Birmingham'] + + 25*xprod[0].X + 50*xprod[1].X\n",
    "max_prod2"
   ]
  },
  {
   "cell_type": "code",
   "execution_count": 56,
   "metadata": {},
   "outputs": [
    {
     "data": {
      "text/html": [
       "<div>\n",
       "<style scoped>\n",
       "    .dataframe tbody tr th:only-of-type {\n",
       "        vertical-align: middle;\n",
       "    }\n",
       "\n",
       "    .dataframe tbody tr th {\n",
       "        vertical-align: top;\n",
       "    }\n",
       "\n",
       "    .dataframe thead th {\n",
       "        text-align: right;\n",
       "    }\n",
       "</style>\n",
       "<table border=\"1\" class=\"dataframe\">\n",
       "  <thead>\n",
       "    <tr style=\"text-align: right;\">\n",
       "      <th></th>\n",
       "      <th>Remaining</th>\n",
       "      <th>Utilization</th>\n",
       "      <th>Max Capacity</th>\n",
       "    </tr>\n",
       "  </thead>\n",
       "  <tbody>\n",
       "    <tr>\n",
       "      <th>Baltimore</th>\n",
       "      <td>45.0</td>\n",
       "      <td>0.75</td>\n",
       "      <td>180</td>\n",
       "    </tr>\n",
       "    <tr>\n",
       "      <th>Birmingham</th>\n",
       "      <td>0.0</td>\n",
       "      <td>1.00</td>\n",
       "      <td>105</td>\n",
       "    </tr>\n",
       "    <tr>\n",
       "      <th>Charleston</th>\n",
       "      <td>22.0</td>\n",
       "      <td>0.88</td>\n",
       "      <td>180</td>\n",
       "    </tr>\n",
       "    <tr>\n",
       "      <th>Cleveland</th>\n",
       "      <td>16.0</td>\n",
       "      <td>0.92</td>\n",
       "      <td>200</td>\n",
       "    </tr>\n",
       "    <tr>\n",
       "      <th>Little_Rock</th>\n",
       "      <td>0.0</td>\n",
       "      <td>1.00</td>\n",
       "      <td>140</td>\n",
       "    </tr>\n",
       "  </tbody>\n",
       "</table>\n",
       "</div>"
      ],
      "text/plain": [
       "             Remaining  Utilization  Max Capacity\n",
       "Baltimore         45.0         0.75           180\n",
       "Birmingham         0.0         1.00           105\n",
       "Charleston        22.0         0.88           180\n",
       "Cleveland         16.0         0.92           200\n",
       "Little_Rock        0.0         1.00           140"
      ]
     },
     "execution_count": 56,
     "metadata": {},
     "output_type": "execute_result"
    }
   ],
   "source": [
    "ship_out_df2 = pd.DataFrame({\n",
    "    'Remaining': max_prod2 - ship_out2,\n",
    "    'Utilization': round(ship_out2/max_prod2, 2),\n",
    "    'Max Capacity': max_prod2\n",
    "})\n",
    "ship_out_df2.head(10)"
   ]
  },
  {
   "cell_type": "code",
   "execution_count": 57,
   "metadata": {},
   "outputs": [
    {
     "data": {
      "text/html": [
       "<div>\n",
       "<style scoped>\n",
       "    .dataframe tbody tr th:only-of-type {\n",
       "        vertical-align: middle;\n",
       "    }\n",
       "\n",
       "    .dataframe tbody tr th {\n",
       "        vertical-align: top;\n",
       "    }\n",
       "\n",
       "    .dataframe thead th {\n",
       "        text-align: right;\n",
       "    }\n",
       "</style>\n",
       "<table border=\"1\" class=\"dataframe\">\n",
       "  <thead>\n",
       "    <tr style=\"text-align: right;\">\n",
       "      <th></th>\n",
       "      <th>Remaining</th>\n",
       "      <th>Utilization</th>\n",
       "      <th>Max Capacity</th>\n",
       "    </tr>\n",
       "  </thead>\n",
       "  <tbody>\n",
       "    <tr>\n",
       "      <th>Baltimore</th>\n",
       "      <td>45.0</td>\n",
       "      <td>0.75</td>\n",
       "      <td>180</td>\n",
       "    </tr>\n",
       "    <tr>\n",
       "      <th>Birmingham</th>\n",
       "      <td>0.0</td>\n",
       "      <td>1.00</td>\n",
       "      <td>80</td>\n",
       "    </tr>\n",
       "    <tr>\n",
       "      <th>Charleston</th>\n",
       "      <td>18.0</td>\n",
       "      <td>0.90</td>\n",
       "      <td>180</td>\n",
       "    </tr>\n",
       "    <tr>\n",
       "      <th>Cleveland</th>\n",
       "      <td>14.0</td>\n",
       "      <td>0.93</td>\n",
       "      <td>200</td>\n",
       "    </tr>\n",
       "    <tr>\n",
       "      <th>Little_Rock</th>\n",
       "      <td>0.0</td>\n",
       "      <td>1.00</td>\n",
       "      <td>140</td>\n",
       "    </tr>\n",
       "  </tbody>\n",
       "</table>\n",
       "</div>"
      ],
      "text/plain": [
       "             Remaining  Utilization  Max Capacity\n",
       "Baltimore         45.0         0.75           180\n",
       "Birmingham         0.0         1.00            80\n",
       "Charleston        18.0         0.90           180\n",
       "Cleveland         14.0         0.93           200\n",
       "Little_Rock        0.0         1.00           140"
      ]
     },
     "execution_count": 57,
     "metadata": {},
     "output_type": "execute_result"
    }
   ],
   "source": [
    "ship_out_df.head(10)"
   ]
  },
  {
   "cell_type": "code",
   "execution_count": null,
   "metadata": {},
   "outputs": [],
   "source": []
  }
 ],
 "metadata": {
  "colab": {
   "authorship_tag": "ABX9TyMRec+dJibi9+wKBITFXV0c",
   "mount_file_id": "1pkM5_feeyzCeYypeao6TTLV_6CwSUE6x",
   "provenance": []
  },
  "kernelspec": {
   "display_name": "Python 3 (ipykernel)",
   "language": "python",
   "name": "python3"
  },
  "language_info": {
   "codemirror_mode": {
    "name": "ipython",
    "version": 3
   },
   "file_extension": ".py",
   "mimetype": "text/x-python",
   "name": "python",
   "nbconvert_exporter": "python",
   "pygments_lexer": "ipython3",
   "version": "3.13.7"
  }
 },
 "nbformat": 4,
 "nbformat_minor": 4
}
